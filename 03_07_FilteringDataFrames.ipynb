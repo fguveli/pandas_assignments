{
 "cells": [
  {
   "cell_type": "markdown",
   "metadata": {},
   "source": [
    "# <font color=blue>Assignments for Filtering Dataframes</font>\n",
    "\n",
    "For Pandas assignments, you are going to use [Titanic](https://www.kaggle.com/c/titanic/download/GQf0y8ebHO0C4JXscPPp%2Fversions%2FXkNkvXwqPPVG0Qt3MtQT%2Ffiles%2Ftrain.csv) (train.csv) dataset. Download the dataset and load to a DataFrame.\n",
    "\n",
    "1. By using conditional selection methods, calculate the survival rate for all passengers under 30 years old.\n"
   ]
  },
  {
   "cell_type": "code",
   "execution_count": 33,
   "metadata": {},
   "outputs": [
    {
     "name": "stdout",
     "output_type": "stream",
     "text": [
      "156 384\n",
      "0.40625\n"
     ]
    }
   ],
   "source": [
    "import pandas as pd\n",
    "\n",
    "dfTrain = pd.read_csv(\"train.csv\")\n",
    "\n",
    "\n",
    "nSurvivor = len(dfTrain[(dfTrain['Age'] < 30) & (dfTrain['Survived'] == 1)])\n",
    "nUnderThirty = len(dfTrain[dfTrain['Age'] < 30])\n",
    "\n",
    "survivalRate = nSurvivor / nUnderThirty\n",
    "print(nSurvivor, nUnderThirty)\n",
    "print(survivalRate)\n"
   ]
  },
  {
   "cell_type": "markdown",
   "metadata": {},
   "source": [
    "2. Calculate the survival rate by gender."
   ]
  },
  {
   "cell_type": "code",
   "execution_count": 46,
   "metadata": {},
   "outputs": [
    {
     "name": "stdout",
     "output_type": "stream",
     "text": [
      "109 233 577 314\n",
      "Female survival rate = 0.7420382165605095\n",
      "Male survival rate = 0.18890814558058924\n"
     ]
    }
   ],
   "source": [
    "nSurvivorFemale = len(dfTrain[(dfTrain['Sex'] == \"female\") & (dfTrain['Survived'] == 1)])\n",
    "nSurvivorMale = len(dfTrain[(dfTrain['Sex'] == \"male\") & (dfTrain['Survived'] == 1)])\n",
    "nSurvivorTotalFemale = len(dfTrain[dfTrain['Sex'] == \"female\"])\n",
    "nSurvivorTotalMale = len(dfTrain[dfTrain['Sex'] == \"male\"])\n",
    "\n",
    "print(nSurvivorMale, nSurvivorFemale, nSurvivorTotalMale, nSurvivorTotalFemale)\n",
    "\n",
    "print(\"Female survival rate =\", nSurvivorFemale/nSurvivorTotalFemale)\n",
    "print(\"Male survival rate =\", nSurvivorMale/nSurvivorTotalMale)\n",
    "\n"
   ]
  }
 ],
 "metadata": {
  "kernelspec": {
   "display_name": "Python 3",
   "language": "python",
   "name": "python3"
  },
  "language_info": {
   "codemirror_mode": {
    "name": "ipython",
    "version": 3
   },
   "file_extension": ".py",
   "mimetype": "text/x-python",
   "name": "python",
   "nbconvert_exporter": "python",
   "pygments_lexer": "ipython3",
   "version": "3.8.3"
  }
 },
 "nbformat": 4,
 "nbformat_minor": 4
}
